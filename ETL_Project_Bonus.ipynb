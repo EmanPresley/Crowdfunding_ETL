{
 "cells": [
  {
   "cell_type": "code",
   "execution_count": 2,
   "id": "e625eccb",
   "metadata": {},
   "outputs": [],
   "source": [
    "import sqlalchemy\n",
    "from sqlalchemy import create_engine, inspect, text\n",
    "import pandas as pd\n",
    "import numpy as np\n",
    "import seaborn as sns\n",
    "import matplotlib.pyplot as plt"
   ]
  },
  {
   "cell_type": "code",
   "execution_count": 3,
   "id": "ac15299e",
   "metadata": {},
   "outputs": [],
   "source": [
    "SQL_USERNAME = \"postgres\"\n",
    "SQL_PASSWORD = \"postgres\"\n",
    "SQL_IP = \"localhost\"\n",
    "PORT = \"5432\"\n",
    "DATABASE = \"Crowdfunding_ETL\""
   ]
  },
  {
   "cell_type": "code",
   "execution_count": 4,
   "id": "98f56e07",
   "metadata": {},
   "outputs": [],
   "source": [
    "# create engine\n",
    "connection_string = f\"postgresql+psycopg2://{SQL_USERNAME}:{SQL_PASSWORD}@{SQL_IP}:{PORT}/{DATABASE}\"\n",
    "engine = create_engine(connection_string) "
   ]
  },
  {
   "cell_type": "code",
   "execution_count": 5,
   "id": "4fa791d7",
   "metadata": {},
   "outputs": [
    {
     "name": "stdout",
     "output_type": "stream",
     "text": [
      "category\n",
      "category_id VARCHAR(100)\n",
      "category VARCHAR(100)\n",
      "last_updated TIMESTAMP\n",
      "\n",
      "subcategory\n",
      "subcategory_id VARCHAR(100)\n",
      "subcategory VARCHAR(100)\n",
      "last_updated TIMESTAMP\n",
      "\n",
      "contacts\n",
      "contact_id INTEGER\n",
      "first_name VARCHAR(100)\n",
      "last_name VARCHAR(100)\n",
      "email VARCHAR(100)\n",
      "last_updated TIMESTAMP\n",
      "\n",
      "campaign\n",
      "cf_id INTEGER\n",
      "contact_id INTEGER\n",
      "company_name VARCHAR(100)\n",
      "description VARCHAR(100)\n",
      "goal DOUBLE_PRECISION\n",
      "pledged DOUBLE_PRECISION\n",
      "outcome VARCHAR(100)\n",
      "backers_count INTEGER\n",
      "country VARCHAR(100)\n",
      "currency VARCHAR(100)\n",
      "launch_date DATE\n",
      "end_date DATE\n",
      "category_id VARCHAR(100)\n",
      "subcategory_id VARCHAR(100)\n",
      "last_updated TIMESTAMP\n",
      "\n"
     ]
    }
   ],
   "source": [
    "# explore and understand the data\n",
    "\n",
    "# Create the inspector and connect it to the engine\n",
    "inspector = inspect(engine)\n",
    "\n",
    "# Collect the names of tables within the database\n",
    "tables = inspector.get_table_names()\n",
    "\n",
    "# Using the inspector to print the column names within each table and its types\n",
    "for table in tables:\n",
    "    print(table)\n",
    "    columns = inspector.get_columns(table)\n",
    "    for column in columns:\n",
    "        print(column[\"name\"], column[\"type\"])\n",
    "        \n",
    "    print()"
   ]
  },
  {
   "cell_type": "code",
   "execution_count": 6,
   "id": "2c3579a3",
   "metadata": {},
   "outputs": [
    {
     "name": "stdout",
     "output_type": "stream",
     "text": [
      "(9, 2)\n"
     ]
    },
    {
     "data": {
      "text/plain": [
       "9"
      ]
     },
     "execution_count": 6,
     "metadata": {},
     "output_type": "execute_result"
    }
   ],
   "source": [
    "# LOAD DATA\n",
    "filepath = \"../Resources/category.csv\"\n",
    "df = pd.read_csv(filepath)\n",
    "df.columns = [x.lower() for x in df.columns]\n",
    "print(df.shape)\n",
    "\n",
    "# write to SQL\n",
    "df.to_sql(\"category\", schema=\"public\", con=engine, if_exists=\"append\", method=\"multi\", index=False)"
   ]
  },
  {
   "cell_type": "code",
   "execution_count": 7,
   "id": "687fa896",
   "metadata": {},
   "outputs": [
    {
     "name": "stdout",
     "output_type": "stream",
     "text": [
      "(24, 2)\n"
     ]
    },
    {
     "data": {
      "text/plain": [
       "24"
      ]
     },
     "execution_count": 7,
     "metadata": {},
     "output_type": "execute_result"
    }
   ],
   "source": [
    "# LOAD  DATA\n",
    "filepath = \"../Resources/subcategory.csv\"\n",
    "df = pd.read_csv(filepath)\n",
    "df.columns = [x.lower() for x in df.columns]\n",
    "print(df.shape)\n",
    "\n",
    "# write to SQL\n",
    "df.to_sql(\"subcategory\", schema=\"public\", con=engine, if_exists=\"append\", method=\"multi\", index=False)"
   ]
  },
  {
   "cell_type": "code",
   "execution_count": 8,
   "id": "44d99310",
   "metadata": {},
   "outputs": [
    {
     "name": "stdout",
     "output_type": "stream",
     "text": [
      "(1000, 4)\n"
     ]
    },
    {
     "data": {
      "text/plain": [
       "1000"
      ]
     },
     "execution_count": 8,
     "metadata": {},
     "output_type": "execute_result"
    }
   ],
   "source": [
    "# LOAD  DATA\n",
    "filepath = \"../Resources/contacts.csv\"\n",
    "df = pd.read_csv(filepath)\n",
    "df.columns = [x.lower() for x in df.columns]\n",
    "print(df.shape)\n",
    "\n",
    "# write to SQL\n",
    "df.to_sql(\"contacts\", schema=\"public\", con=engine, if_exists=\"append\", method=\"multi\", index=False)"
   ]
  },
  {
   "cell_type": "code",
   "execution_count": 9,
   "id": "f02cc1b6",
   "metadata": {},
   "outputs": [
    {
     "name": "stdout",
     "output_type": "stream",
     "text": [
      "(1000, 14)\n"
     ]
    },
    {
     "data": {
      "text/plain": [
       "1000"
      ]
     },
     "execution_count": 9,
     "metadata": {},
     "output_type": "execute_result"
    }
   ],
   "source": [
    "# LOAD  DATA\n",
    "filepath = \"../Resources/campaign.csv\"\n",
    "df = pd.read_csv(filepath)\n",
    "df.columns = [x.lower() for x in df.columns]\n",
    "print(df.shape)\n",
    "\n",
    "# write to SQL\n",
    "df.to_sql(\"campaign\", schema=\"public\", con=engine, if_exists=\"append\", method=\"multi\", index=False)"
   ]
  },
  {
   "cell_type": "code",
   "execution_count": 28,
   "id": "277e88cb",
   "metadata": {},
   "outputs": [
    {
     "data": {
      "text/html": [
       "<div>\n",
       "<style scoped>\n",
       "    .dataframe tbody tr th:only-of-type {\n",
       "        vertical-align: middle;\n",
       "    }\n",
       "\n",
       "    .dataframe tbody tr th {\n",
       "        vertical-align: top;\n",
       "    }\n",
       "\n",
       "    .dataframe thead th {\n",
       "        text-align: right;\n",
       "    }\n",
       "</style>\n",
       "<table border=\"1\" class=\"dataframe\">\n",
       "  <thead>\n",
       "    <tr style=\"text-align: right;\">\n",
       "      <th></th>\n",
       "      <th>category_id</th>\n",
       "      <th>category</th>\n",
       "      <th>count</th>\n",
       "    </tr>\n",
       "  </thead>\n",
       "  <tbody>\n",
       "    <tr>\n",
       "      <th>0</th>\n",
       "      <td>cat4</td>\n",
       "      <td>theater</td>\n",
       "      <td>187</td>\n",
       "    </tr>\n",
       "    <tr>\n",
       "      <th>1</th>\n",
       "      <td>cat5</td>\n",
       "      <td>film &amp; video</td>\n",
       "      <td>102</td>\n",
       "    </tr>\n",
       "    <tr>\n",
       "      <th>2</th>\n",
       "      <td>cat2</td>\n",
       "      <td>music</td>\n",
       "      <td>99</td>\n",
       "    </tr>\n",
       "    <tr>\n",
       "      <th>3</th>\n",
       "      <td>cat3</td>\n",
       "      <td>technology</td>\n",
       "      <td>64</td>\n",
       "    </tr>\n",
       "    <tr>\n",
       "      <th>4</th>\n",
       "      <td>cat6</td>\n",
       "      <td>publishing</td>\n",
       "      <td>40</td>\n",
       "    </tr>\n",
       "    <tr>\n",
       "      <th>5</th>\n",
       "      <td>cat8</td>\n",
       "      <td>photography</td>\n",
       "      <td>26</td>\n",
       "    </tr>\n",
       "    <tr>\n",
       "      <th>6</th>\n",
       "      <td>cat1</td>\n",
       "      <td>food</td>\n",
       "      <td>22</td>\n",
       "    </tr>\n",
       "    <tr>\n",
       "      <th>7</th>\n",
       "      <td>cat7</td>\n",
       "      <td>games</td>\n",
       "      <td>21</td>\n",
       "    </tr>\n",
       "    <tr>\n",
       "      <th>8</th>\n",
       "      <td>cat9</td>\n",
       "      <td>journalism</td>\n",
       "      <td>4</td>\n",
       "    </tr>\n",
       "  </tbody>\n",
       "</table>\n",
       "</div>"
      ],
      "text/plain": [
       "  category_id      category  count\n",
       "0        cat4       theater    187\n",
       "1        cat5  film & video    102\n",
       "2        cat2         music     99\n",
       "3        cat3    technology     64\n",
       "4        cat6    publishing     40\n",
       "5        cat8   photography     26\n",
       "6        cat1          food     22\n",
       "7        cat7         games     21\n",
       "8        cat9    journalism      4"
      ]
     },
     "execution_count": 28,
     "metadata": {},
     "output_type": "execute_result"
    }
   ],
   "source": [
    "# QUERY List the frequency counts in descending order of categories with successful outcome.\n",
    "query = \"\"\"\n",
    "        select category.category_id, category, count(outcome) \n",
    "        from category\n",
    "        join campaign\n",
    "        on category.category_id=campaign.category_id\n",
    "        where outcome='successful'\n",
    "        group by category.category_id, outcome\n",
    "        order by count(outcome)desc;\n",
    "        \"\"\"\n",
    "\n",
    "df = pd.read_sql(text(query), con=engine)\n",
    "df.head(10)"
   ]
  },
  {
   "cell_type": "code",
   "execution_count": 65,
   "id": "23372139",
   "metadata": {},
   "outputs": [
    {
     "data": {
      "image/png": "[encoded data removed]",
      "text/plain": [
       "<Figure size 1000x600 with 1 Axes>"
      ]
     },
     "metadata": {},
     "output_type": "display_data"
    }
   ],
   "source": [
    "# QUERY VISUALIZATION\n",
    "plt.figure(figsize=(10,6))\n",
    "plt.barh(df.category, df[\"count\"], color=\"peru\")\n",
    "plt.title(\"Number of Successful Outcomes by Category\", fontweight=\"bold\")\n",
    "plt.xlabel(\"Count\")\n",
    "plt.ylabel(\"Category\")\n",
    "plt.grid(axis=\"x\", color=\"lightgrey\", linestyle=\"--\", alpha=0.2)\n",
    "\n",
    "plt.show()"
   ]
  },
  {
   "cell_type": "code",
   "execution_count": null,
   "id": "ea74585a",
   "metadata": {},
   "outputs": [],
   "source": []
  }
 ],
 "metadata": {
  "kernelspec": {
   "display_name": "Python 3 (ipykernel)",
   "language": "python",
   "name": "python3"
  },
  "language_info": {
   "codemirror_mode": {
    "name": "ipython",
    "version": 3
   },
   "file_extension": ".py",
   "mimetype": "text/x-python",
   "name": "python",
   "nbconvert_exporter": "python",
   "pygments_lexer": "ipython3",
   "version": "3.10.13"
  }
 },
 "nbformat": 4,
 "nbformat_minor": 5
}
